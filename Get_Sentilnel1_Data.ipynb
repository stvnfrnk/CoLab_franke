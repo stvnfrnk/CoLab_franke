{
  "nbformat": 4,
  "nbformat_minor": 0,
  "metadata": {
    "colab": {
      "name": "Get_Sentilnel1_Data.ipynb",
      "provenance": [],
      "authorship_tag": "ABX9TyOxFqkU8nhqBmDHInJC5Q1K",
      "include_colab_link": true
    },
    "kernelspec": {
      "name": "python3",
      "display_name": "Python 3"
    }
  },
  "cells": [
    {
      "cell_type": "markdown",
      "metadata": {
        "id": "view-in-github",
        "colab_type": "text"
      },
      "source": [
        "<a href=\"https://colab.research.google.com/github/stvnfrnk/CoLab_franke/blob/main/Get_Sentilnel1_Data.ipynb\" target=\"_parent\"><img src=\"https://colab.research.google.com/assets/colab-badge.svg\" alt=\"Open In Colab\"/></a>"
      ]
    },
    {
      "cell_type": "code",
      "metadata": {
        "colab": {
          "base_uri": "https://localhost:8080/"
        },
        "id": "hfUfP2I1lIOQ",
        "outputId": "498ea608-1535-49c5-82c3-8c00849c73ac"
      },
      "source": [
        "import ee\n",
        "\n",
        "ee.Authenticate()\n",
        "ee.Initialize()"
      ],
      "execution_count": null,
      "outputs": [
        {
          "output_type": "stream",
          "text": [
            "To authorize access needed by Earth Engine, open the following URL in a web browser and follow the instructions. If the web browser does not start automatically, please manually browse the URL below.\n",
            "\n",
            "    https://accounts.google.com/o/oauth2/auth?client_id=517222506229-vsmmajv00ul0bs7p89v5m89qs8eb9359.apps.googleusercontent.com&scope=https%3A%2F%2Fwww.googleapis.com%2Fauth%2Fearthengine+https%3A%2F%2Fwww.googleapis.com%2Fauth%2Fdevstorage.full_control&redirect_uri=urn%3Aietf%3Awg%3Aoauth%3A2.0%3Aoob&response_type=code&code_challenge=VRzXaDdmzwke2goOIecLQ7skRQlFuip9miZLBxheqRs&code_challenge_method=S256\n",
            "\n",
            "The authorization workflow will generate a code, which you should paste in the box below. \n",
            "Enter verification code: 4/1AY0e-g6dcZbwiHlIcd2Xa3qOBrlIMO5h8ZFGoskWxGVhM2sGjI-sQ5-NX7A\n",
            "\n",
            "Successfully saved authorization token.\n"
          ],
          "name": "stdout"
        }
      ]
    },
    {
      "cell_type": "code",
      "metadata": {
        "colab": {
          "base_uri": "https://localhost:8080/"
        },
        "id": "_pimQ6_1lXnK",
        "outputId": "5f649c88-a2ac-4707-8fb1-192493c58b5a"
      },
      "source": [
        "loc = ee.Geometry.Point(-8.15, -70.5)\n",
        "\n",
        "region = ee.Geometry.Polygon([\n",
        "                              [\n",
        "                                [-8.91766967773437,-70.77093011928865],\n",
        "                                [-7.05548706054687,-70.77093011928865],\n",
        "                                [-7.05548706054687,-70.3329117172101],\n",
        "                                [-8.91766967773437,-70.3329117172101],\n",
        "                                [-8.91766967773437,-70.77093011928865]\n",
        "                              ]\n",
        "                            ]);\n",
        "collection = ee.ImageCollection('COPERNICUS/S1_GRD') \\\n",
        "    .filterBounds(loc) \\\n",
        "    .filterDate('2020-10-01', '2020-10-03').select(['HH'])\n",
        "\n",
        "dates = collection.aggregate_array('system:time_start').map(lambda time_start: ee.Date(time_start).format('Y-MM-dd')).getInfo()\n",
        "print(dates)"
      ],
      "execution_count": 39,
      "outputs": [
        {
          "output_type": "stream",
          "text": [
            "['2020-10-02']\n"
          ],
          "name": "stdout"
        }
      ]
    },
    {
      "cell_type": "code",
      "metadata": {
        "id": "dzZSlDqzlxCX"
      },
      "source": [
        "# This is OK for small collections\n",
        "collectionList = collection.toList(collection.size())\n",
        "collectionSize = collectionList.size().getInfo()\n",
        "\n",
        "for i in range(collectionSize):\n",
        "    ee.batch.Export.image.toDrive(\n",
        "        image = ee.Image(collectionList.get(i)).clip(region), \n",
        "        fileNamePrefix = 'S1_SR_' + dates[i] + '_atka_bay').start()"
      ],
      "execution_count": 40,
      "outputs": []
    },
    {
      "cell_type": "code",
      "metadata": {
        "id": "9XIhPM5vn_nE"
      },
      "source": [
        ""
      ],
      "execution_count": null,
      "outputs": []
    }
  ]
}