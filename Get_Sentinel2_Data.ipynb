{
  "nbformat": 4,
  "nbformat_minor": 0,
  "metadata": {
    "colab": {
      "name": "Get_Sentinel2_Data.ipynb",
      "provenance": [],
      "collapsed_sections": [],
      "toc_visible": true,
      "include_colab_link": true
    },
    "kernelspec": {
      "display_name": "Python 3",
      "name": "python3"
    }
  },
  "cells": [
    {
      "cell_type": "markdown",
      "metadata": {
        "id": "view-in-github",
        "colab_type": "text"
      },
      "source": [
        "<a href=\"https://colab.research.google.com/github/stvnfrnk/CoLab_franke/blob/main/Get_Sentinel2_Data.ipynb\" target=\"_parent\"><img src=\"https://colab.research.google.com/assets/colab-badge.svg\" alt=\"Open In Colab\"/></a>"
      ]
    },
    {
      "cell_type": "code",
      "metadata": {
        "id": "krsLgVBYZw_A"
      },
      "source": [
        "#@title Copyright 2019 Google LLC. { display-mode: \"form\" }\n",
        "# Licensed under the Apache License, Version 2.0 (the \"License\");\n",
        "# you may not use this file except in compliance with the License.\n",
        "# You may obtain a copy of the License at\n",
        "#\n",
        "# https://www.apache.org/licenses/LICENSE-2.0\n",
        "#\n",
        "# Unless required by applicable law or agreed to in writing, software\n",
        "# distributed under the License is distributed on an \"AS IS\" BASIS,\n",
        "# WITHOUT WARRANTIES OR CONDITIONS OF ANY KIND, either express or implied.\n",
        "# See the License for the specific language governing permissions and\n",
        "# limitations under the License."
      ],
      "execution_count": null,
      "outputs": []
    },
    {
      "cell_type": "markdown",
      "metadata": {
        "id": "aV1xZ1CPi3Nw"
      },
      "source": [
        "<table class=\"ee-notebook-buttons\" align=\"left\"><td>\n",
        "<a target=\"_blank\"  href=\"http://colab.research.google.com/github/google/earthengine-api/blob/master/python/examples/ipynb/ee-api-colab-setup.ipynb\">\n",
        "    <img src=\"https://www.tensorflow.org/images/colab_logo_32px.png\" /> Run in Google Colab</a>\n",
        "</td><td>\n",
        "<a target=\"_blank\"  href=\"https://github.com/google/earthengine-api/blob/master/python/examples/ipynb/ee-api-colab-setup.ipynb\"><img width=32px src=\"https://www.tensorflow.org/images/GitHub-Mark-32px.png\" /> View source on GitHub</a></td></table>"
      ]
    },
    {
      "cell_type": "markdown",
      "metadata": {
        "id": "LAZiVi13zTE7"
      },
      "source": [
        "# Start Earth Engine Python API Colab Setup\n"
      ]
    },
    {
      "cell_type": "code",
      "metadata": {
        "id": "65RChERMzQHZ"
      },
      "source": [
        "import ee\n",
        "import geemap\n",
        "import os\n",
        "\n",
        "ee.Authenticate()\n",
        "ee.Initialize()\n",
        "\n",
        "from google.colab import drive\n",
        "drive.mount('/content/drive')"
      ],
      "execution_count": null,
      "outputs": []
    },
    {
      "cell_type": "code",
      "metadata": {
        "colab": {
          "base_uri": "https://localhost:8080/"
        },
        "id": "zaQdo_siyfwB",
        "outputId": "6e3af938-5bb3-40e6-a81d-588e3322fa3a"
      },
      "source": [
        "loc = ee.Geometry.Point(-8.15, -70.5)\n",
        "\n",
        "region = ee.Geometry.Polygon([\n",
        "                              [\n",
        "                                [-8.91766967773437,-70.77093011928865],\n",
        "                                [-7.05548706054687,-70.77093011928865],\n",
        "                                [-7.05548706054687,-70.3329117172101],\n",
        "                                [-8.91766967773437,-70.3329117172101],\n",
        "                                [-8.91766967773437,-70.77093011928865]\n",
        "                              ]\n",
        "                            ]);\n",
        "collection = ee.ImageCollection('COPERNICUS/S2_SR') \\\n",
        "    .filterBounds(loc) \\\n",
        "    .filterDate('2015-01-01', '2019-01-01') \\\n",
        "    .filter(ee.Filter.lt('CLOUDY_PIXEL_PERCENTAGE',30)).select(['B4', 'B3', 'B2'])\n",
        "\n",
        "dates = collection.aggregate_array('system:time_start').map(lambda time_start: ee.Date(time_start).format('Y-MM-dd')).getInfo()\n",
        "print(dates)"
      ],
      "execution_count": 105,
      "outputs": [
        {
          "output_type": "stream",
          "text": [
            "['2018-12-20', '2018-12-26']\n"
          ],
          "name": "stdout"
        }
      ]
    },
    {
      "cell_type": "code",
      "metadata": {
        "id": "Lr1Li2bRzHJV"
      },
      "source": [
        "# This is OK for small collections\n",
        "collectionList = collection.toList(collection.size())\n",
        "collectionSize = collectionList.size().getInfo()\n",
        "\n",
        "for i in range(collectionSize):\n",
        "    ee.batch.Export.image.toDrive(\n",
        "        image = ee.Image(collectionList.get(i)).clip(region), \n",
        "        fileNamePrefix = 'S2_SR_' + dates[i] + '_atka_bay').start()"
      ],
      "execution_count": 80,
      "outputs": []
    },
    {
      "cell_type": "code",
      "metadata": {
        "colab": {
          "base_uri": "https://localhost:8080/"
        },
        "id": "ZYfxxgfwAamv",
        "outputId": "2829d0cf-d870-4f54-842e-08ae0197a5c9"
      },
      "source": [
        "dates = collection.aggregate_array('system:time_start').map(lambda time_start: ee.Date(time_start).format('Y-MM-dd')).getInfo()\n",
        "print(dates)"
      ],
      "execution_count": 97,
      "outputs": [
        {
          "output_type": "stream",
          "text": [
            "['2019-01-25', '2019-01-29', '2019-02-14', '2019-02-28', '2019-03-06', '2019-03-16', '2019-03-20', '2019-03-26']\n"
          ],
          "name": "stdout"
        }
      ]
    },
    {
      "cell_type": "code",
      "metadata": {
        "colab": {
          "base_uri": "https://localhost:8080/",
          "height": 36
        },
        "id": "eNBksVY9VdH3",
        "outputId": "f2f89365-7ff4-4eb4-eb1e-06ba2b258ab4"
      },
      "source": [
        "dates[i]"
      ],
      "execution_count": 100,
      "outputs": [
        {
          "output_type": "execute_result",
          "data": {
            "application/vnd.google.colaboratory.intrinsic+json": {
              "type": "string"
            },
            "text/plain": [
              "'2019-02-28'"
            ]
          },
          "metadata": {
            "tags": []
          },
          "execution_count": 100
        }
      ]
    },
    {
      "cell_type": "code",
      "metadata": {
        "id": "gQ_QhpQaVsN7"
      },
      "source": [
        ""
      ],
      "execution_count": null,
      "outputs": []
    }
  ]
}