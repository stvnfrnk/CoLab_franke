{
 "cells": [
  {
   "cell_type": "markdown",
   "metadata": {
    "colab_type": "text",
    "id": "view-in-github"
   },
   "source": [
    "<a href=\"https://colab.research.google.com/github/stvnfrnk/CoLab_franke/blob/main/Temperatur.ipynb\" target=\"_parent\"><img src=\"https://colab.research.google.com/assets/colab-badge.svg\" alt=\"Open In Colab\"/></a>"
   ]
  },
  {
   "cell_type": "code",
   "execution_count": 4,
   "metadata": {
    "id": "HRI6v-4DhOC_"
   },
   "outputs": [
    {
     "ename": "ApplicationDefaultCredentialsError",
     "evalue": "The Application Default Credentials are not available. They are available if running in Google Compute Engine. Otherwise, the environment variable GOOGLE_APPLICATION_CREDENTIALS must be defined pointing to a file defining the credentials. See https://developers.google.com/accounts/docs/application-default-credentials for more information.",
     "output_type": "error",
     "traceback": [
      "\u001b[1;31m---------------------------------------------------------------------------\u001b[0m",
      "\u001b[1;31mApplicationDefaultCredentialsError\u001b[0m        Traceback (most recent call last)",
      "\u001b[1;32m<ipython-input-4-1b1e76ab7899>\u001b[0m in \u001b[0;36m<module>\u001b[1;34m\u001b[0m\n\u001b[0;32m      3\u001b[0m \u001b[1;32mimport\u001b[0m \u001b[0mgspread\u001b[0m\u001b[1;33m\u001b[0m\u001b[1;33m\u001b[0m\u001b[0m\n\u001b[0;32m      4\u001b[0m \u001b[1;32mfrom\u001b[0m \u001b[0moauth2client\u001b[0m\u001b[1;33m.\u001b[0m\u001b[0mclient\u001b[0m \u001b[1;32mimport\u001b[0m \u001b[0mGoogleCredentials\u001b[0m\u001b[1;33m\u001b[0m\u001b[1;33m\u001b[0m\u001b[0m\n\u001b[1;32m----> 5\u001b[1;33m \u001b[0mgc\u001b[0m \u001b[1;33m=\u001b[0m \u001b[0mgspread\u001b[0m\u001b[1;33m.\u001b[0m\u001b[0mauthorize\u001b[0m\u001b[1;33m(\u001b[0m\u001b[0mGoogleCredentials\u001b[0m\u001b[1;33m.\u001b[0m\u001b[0mget_application_default\u001b[0m\u001b[1;33m(\u001b[0m\u001b[1;33m)\u001b[0m\u001b[1;33m)\u001b[0m\u001b[1;33m\u001b[0m\u001b[1;33m\u001b[0m\u001b[0m\n\u001b[0m",
      "\u001b[1;32m~\\anaconda3\\lib\\site-packages\\oauth2client\\client.py\u001b[0m in \u001b[0;36mget_application_default\u001b[1;34m()\u001b[0m\n\u001b[0;32m   1269\u001b[0m                                                 \u001b[0mfail\u001b[0m \u001b[0mto\u001b[0m \u001b[0mbe\u001b[0m \u001b[0mretrieved\u001b[0m\u001b[1;33m.\u001b[0m\u001b[1;33m\u001b[0m\u001b[1;33m\u001b[0m\u001b[0m\n\u001b[0;32m   1270\u001b[0m         \"\"\"\n\u001b[1;32m-> 1271\u001b[1;33m         \u001b[1;32mreturn\u001b[0m \u001b[0mGoogleCredentials\u001b[0m\u001b[1;33m.\u001b[0m\u001b[0m_get_implicit_credentials\u001b[0m\u001b[1;33m(\u001b[0m\u001b[1;33m)\u001b[0m\u001b[1;33m\u001b[0m\u001b[1;33m\u001b[0m\u001b[0m\n\u001b[0m\u001b[0;32m   1272\u001b[0m \u001b[1;33m\u001b[0m\u001b[0m\n\u001b[0;32m   1273\u001b[0m     \u001b[1;33m@\u001b[0m\u001b[0mstaticmethod\u001b[0m\u001b[1;33m\u001b[0m\u001b[1;33m\u001b[0m\u001b[0m\n",
      "\u001b[1;32m~\\anaconda3\\lib\\site-packages\\oauth2client\\client.py\u001b[0m in \u001b[0;36m_get_implicit_credentials\u001b[1;34m(cls)\u001b[0m\n\u001b[0;32m   1259\u001b[0m \u001b[1;33m\u001b[0m\u001b[0m\n\u001b[0;32m   1260\u001b[0m         \u001b[1;31m# If no credentials, fail.\u001b[0m\u001b[1;33m\u001b[0m\u001b[1;33m\u001b[0m\u001b[1;33m\u001b[0m\u001b[0m\n\u001b[1;32m-> 1261\u001b[1;33m         \u001b[1;32mraise\u001b[0m \u001b[0mApplicationDefaultCredentialsError\u001b[0m\u001b[1;33m(\u001b[0m\u001b[0mADC_HELP_MSG\u001b[0m\u001b[1;33m)\u001b[0m\u001b[1;33m\u001b[0m\u001b[1;33m\u001b[0m\u001b[0m\n\u001b[0m\u001b[0;32m   1262\u001b[0m \u001b[1;33m\u001b[0m\u001b[0m\n\u001b[0;32m   1263\u001b[0m     \u001b[1;33m@\u001b[0m\u001b[0mstaticmethod\u001b[0m\u001b[1;33m\u001b[0m\u001b[1;33m\u001b[0m\u001b[0m\n",
      "\u001b[1;31mApplicationDefaultCredentialsError\u001b[0m: The Application Default Credentials are not available. They are available if running in Google Compute Engine. Otherwise, the environment variable GOOGLE_APPLICATION_CREDENTIALS must be defined pointing to a file defining the credentials. See https://developers.google.com/accounts/docs/application-default-credentials for more information."
     ]
    }
   ],
   "source": [
    "#from google.colab import auth\n",
    "#auth.authenticate_user()\n",
    "import gspread\n",
    "from oauth2client.client import GoogleCredentials\n",
    "gc = gspread.authorize(GoogleCredentials.get_application_default())\n"
   ]
  },
  {
   "cell_type": "code",
   "execution_count": 62,
   "metadata": {
    "colab": {
     "base_uri": "https://localhost:8080/",
     "height": 394
    },
    "id": "JP6kH1EEhom1",
    "outputId": "1ba4cb7b-a921-4d63-c172-0955294cd499"
   },
   "outputs": [
    {
     "data": {
      "text/html": [
       "<div>\n",
       "<style scoped>\n",
       "    .dataframe tbody tr th:only-of-type {\n",
       "        vertical-align: middle;\n",
       "    }\n",
       "\n",
       "    .dataframe tbody tr th {\n",
       "        vertical-align: top;\n",
       "    }\n",
       "\n",
       "    .dataframe thead th {\n",
       "        text-align: right;\n",
       "    }\n",
       "</style>\n",
       "<table border=\"1\" class=\"dataframe\">\n",
       "  <thead>\n",
       "    <tr style=\"text-align: right;\">\n",
       "      <th></th>\n",
       "      <th>Time</th>\n",
       "      <th>Michi</th>\n",
       "      <th>Sarah</th>\n",
       "      <th>Steven</th>\n",
       "      <th>text_michi</th>\n",
       "      <th>text_sarah</th>\n",
       "      <th>text_steven</th>\n",
       "    </tr>\n",
       "  </thead>\n",
       "  <tbody>\n",
       "    <tr>\n",
       "      <th>1</th>\n",
       "      <td>2020-11-18 15:09:00</td>\n",
       "      <td>37.00</td>\n",
       "      <td></td>\n",
       "      <td></td>\n",
       "      <td>Michi &lt;br&gt;Temperatur: 37.00 °C</td>\n",
       "      <td>Sarah &lt;br&gt;Temperatur:  °C</td>\n",
       "      <td>Steven &lt;br&gt;Temperatur:  °C</td>\n",
       "    </tr>\n",
       "    <tr>\n",
       "      <th>2</th>\n",
       "      <td>2020-11-18 15:32:00</td>\n",
       "      <td>36.6</td>\n",
       "      <td></td>\n",
       "      <td></td>\n",
       "      <td>Michi &lt;br&gt;Temperatur: 36.6 °C</td>\n",
       "      <td>Sarah &lt;br&gt;Temperatur:  °C</td>\n",
       "      <td>Steven &lt;br&gt;Temperatur:  °C</td>\n",
       "    </tr>\n",
       "    <tr>\n",
       "      <th>3</th>\n",
       "      <td>2020-11-18 15:40:00</td>\n",
       "      <td>37.7</td>\n",
       "      <td></td>\n",
       "      <td></td>\n",
       "      <td>Michi &lt;br&gt;Temperatur: 37.7 °C</td>\n",
       "      <td>Sarah &lt;br&gt;Temperatur:  °C</td>\n",
       "      <td>Steven &lt;br&gt;Temperatur:  °C</td>\n",
       "    </tr>\n",
       "    <tr>\n",
       "      <th>4</th>\n",
       "      <td>2020-11-18 17:21:00</td>\n",
       "      <td>37.9</td>\n",
       "      <td></td>\n",
       "      <td></td>\n",
       "      <td>Michi &lt;br&gt;Temperatur: 37.9 °C</td>\n",
       "      <td>Sarah &lt;br&gt;Temperatur:  °C</td>\n",
       "      <td>Steven &lt;br&gt;Temperatur:  °C</td>\n",
       "    </tr>\n",
       "    <tr>\n",
       "      <th>5</th>\n",
       "      <td>2020-11-18 17:26:00</td>\n",
       "      <td>37.5</td>\n",
       "      <td></td>\n",
       "      <td></td>\n",
       "      <td>Michi &lt;br&gt;Temperatur: 37.5 °C</td>\n",
       "      <td>Sarah &lt;br&gt;Temperatur:  °C</td>\n",
       "      <td>Steven &lt;br&gt;Temperatur:  °C</td>\n",
       "    </tr>\n",
       "    <tr>\n",
       "      <th>6</th>\n",
       "      <td>2020-11-18 20:58:00</td>\n",
       "      <td>37.1</td>\n",
       "      <td></td>\n",
       "      <td></td>\n",
       "      <td>Michi &lt;br&gt;Temperatur: 37.1 °C</td>\n",
       "      <td>Sarah &lt;br&gt;Temperatur:  °C</td>\n",
       "      <td>Steven &lt;br&gt;Temperatur:  °C</td>\n",
       "    </tr>\n",
       "    <tr>\n",
       "      <th>7</th>\n",
       "      <td>2020-11-18 22:49:00</td>\n",
       "      <td>36.8</td>\n",
       "      <td></td>\n",
       "      <td></td>\n",
       "      <td>Michi &lt;br&gt;Temperatur: 36.8 °C</td>\n",
       "      <td>Sarah &lt;br&gt;Temperatur:  °C</td>\n",
       "      <td>Steven &lt;br&gt;Temperatur:  °C</td>\n",
       "    </tr>\n",
       "    <tr>\n",
       "      <th>8</th>\n",
       "      <td>2020-11-19 06:45:00</td>\n",
       "      <td>37.0</td>\n",
       "      <td></td>\n",
       "      <td></td>\n",
       "      <td>Michi &lt;br&gt;Temperatur: 37.0 °C</td>\n",
       "      <td>Sarah &lt;br&gt;Temperatur:  °C</td>\n",
       "      <td>Steven &lt;br&gt;Temperatur:  °C</td>\n",
       "    </tr>\n",
       "    <tr>\n",
       "      <th>9</th>\n",
       "      <td>2020-11-19 10:27:00</td>\n",
       "      <td>37.1</td>\n",
       "      <td></td>\n",
       "      <td></td>\n",
       "      <td>Michi &lt;br&gt;Temperatur: 37.1 °C</td>\n",
       "      <td>Sarah &lt;br&gt;Temperatur:  °C</td>\n",
       "      <td>Steven &lt;br&gt;Temperatur:  °C</td>\n",
       "    </tr>\n",
       "    <tr>\n",
       "      <th>10</th>\n",
       "      <td>2020-11-19 11:06:00</td>\n",
       "      <td>37.2</td>\n",
       "      <td></td>\n",
       "      <td></td>\n",
       "      <td>Michi &lt;br&gt;Temperatur: 37.2 °C</td>\n",
       "      <td>Sarah &lt;br&gt;Temperatur:  °C</td>\n",
       "      <td>Steven &lt;br&gt;Temperatur:  °C</td>\n",
       "    </tr>\n",
       "    <tr>\n",
       "      <th>11</th>\n",
       "      <td>2020-11-19 13:46:00</td>\n",
       "      <td>36.7</td>\n",
       "      <td></td>\n",
       "      <td></td>\n",
       "      <td>Michi &lt;br&gt;Temperatur: 36.7 °C</td>\n",
       "      <td>Sarah &lt;br&gt;Temperatur:  °C</td>\n",
       "      <td>Steven &lt;br&gt;Temperatur:  °C</td>\n",
       "    </tr>\n",
       "  </tbody>\n",
       "</table>\n",
       "</div>"
      ],
      "text/plain": [
       "0                 Time  ...                 text_steven\n",
       "1  2020-11-18 15:09:00  ...  Steven <br>Temperatur:  °C\n",
       "2  2020-11-18 15:32:00  ...  Steven <br>Temperatur:  °C\n",
       "3  2020-11-18 15:40:00  ...  Steven <br>Temperatur:  °C\n",
       "4  2020-11-18 17:21:00  ...  Steven <br>Temperatur:  °C\n",
       "5  2020-11-18 17:26:00  ...  Steven <br>Temperatur:  °C\n",
       "6  2020-11-18 20:58:00  ...  Steven <br>Temperatur:  °C\n",
       "7  2020-11-18 22:49:00  ...  Steven <br>Temperatur:  °C\n",
       "8  2020-11-19 06:45:00  ...  Steven <br>Temperatur:  °C\n",
       "9  2020-11-19 10:27:00  ...  Steven <br>Temperatur:  °C\n",
       "10 2020-11-19 11:06:00  ...  Steven <br>Temperatur:  °C\n",
       "11 2020-11-19 13:46:00  ...  Steven <br>Temperatur:  °C\n",
       "\n",
       "[11 rows x 7 columns]"
      ]
     },
     "execution_count": 62,
     "metadata": {
      "tags": []
     },
     "output_type": "execute_result"
    }
   ],
   "source": [
    "import pandas as pd\n",
    "sheet = 'https://docs.google.com/spreadsheets/d/1gwQN0dJQDqBjghCPWbqITTDcYQraGdlFw2gJNAD-ax4/edit#gid=0'\n",
    "#wb    = gc.open_by_url('https://docs.google.com/spreadsheets/d/1YTD0pxdGTGAzM8IiWDfLL4AZPjrFRN-vpGUiLQWOtoI/edit#gid=1512387781')\n",
    "wb    = gc.open_by_url(sheet)\n",
    "sheet = wb.worksheet('tb_1')\n",
    "data  = sheet.get_all_values()\n",
    "\n",
    "df = pd.DataFrame(data)\n",
    "df.columns = df.iloc[0]\n",
    "df = df.drop(df.index[0])\n",
    "df['Time'] = df['Time'].apply(pd.to_datetime)\n",
    "\n",
    "df['text_michi'] = 'Michi <br>Temperatur: ' + df['Michi'].astype(str) + ' °C'\n",
    "df['text_sarah'] = 'Sarah <br>Temperatur: ' + df['Sarah'].astype(str) + ' °C'\n",
    "df['text_steven'] = 'Steven <br>Temperatur: ' + df['Steven'].astype(str) + ' °C'\n",
    "\n",
    "df"
   ]
  },
  {
   "cell_type": "code",
   "execution_count": 63,
   "metadata": {
    "colab": {
     "base_uri": "https://localhost:8080/",
     "height": 542
    },
    "id": "u3Jy0aFikAl5",
    "outputId": "c24ce291-71d7-4745-fa74-9a0719c35fa8"
   },
   "outputs": [
    {
     "data": {
      "text/html": [
       "<html>\n",
       "<head><meta charset=\"utf-8\" /></head>\n",
       "<body>\n",
       "    <div>\n",
       "            <script src=\"https://cdnjs.cloudflare.com/ajax/libs/mathjax/2.7.5/MathJax.js?config=TeX-AMS-MML_SVG\"></script><script type=\"text/javascript\">if (window.MathJax) {MathJax.Hub.Config({SVG: {font: \"STIX-Web\"}});}</script>\n",
       "                <script type=\"text/javascript\">window.PlotlyConfig = {MathJaxConfig: 'local'};</script>\n",
       "        <script src=\"https://cdn.plot.ly/plotly-latest.min.js\"></script>    \n",
       "            <div id=\"44c0b9ee-570b-42e6-b260-9f22301c506a\" class=\"plotly-graph-div\" style=\"height:525px; width:100%;\"></div>\n",
       "            <script type=\"text/javascript\">\n",
       "                \n",
       "                    window.PLOTLYENV=window.PLOTLYENV || {};\n",
       "                    \n",
       "                if (document.getElementById(\"44c0b9ee-570b-42e6-b260-9f22301c506a\")) {\n",
       "                    Plotly.newPlot(\n",
       "                        '44c0b9ee-570b-42e6-b260-9f22301c506a',\n",
       "                        [{\"line\": {\"color\": \"rgba(47,79,79, 1)\"}, \"name\": \"Michi\", \"text\": [\"Michi <br>Temperatur: 37.00 \\u00b0C\", \"Michi <br>Temperatur: 36.6 \\u00b0C\", \"Michi <br>Temperatur: 37.7 \\u00b0C\", \"Michi <br>Temperatur: 37.9 \\u00b0C\", \"Michi <br>Temperatur: 37.5 \\u00b0C\", \"Michi <br>Temperatur: 37.1 \\u00b0C\", \"Michi <br>Temperatur: 36.8 \\u00b0C\", \"Michi <br>Temperatur: 37.0 \\u00b0C\", \"Michi <br>Temperatur: 37.1 \\u00b0C\", \"Michi <br>Temperatur: 37.2 \\u00b0C\", \"Michi <br>Temperatur: 36.7 \\u00b0C\"], \"type\": \"scatter\", \"x\": [\"2020-11-18T15:09:00\", \"2020-11-18T15:32:00\", \"2020-11-18T15:40:00\", \"2020-11-18T17:21:00\", \"2020-11-18T17:26:00\", \"2020-11-18T20:58:00\", \"2020-11-18T22:49:00\", \"2020-11-19T06:45:00\", \"2020-11-19T10:27:00\", \"2020-11-19T11:06:00\", \"2020-11-19T13:46:00\"], \"y\": [\"37.00\", \"36.6\", \"37.7\", \"37.9\", \"37.5\", \"37.1\", \"36.8\", \"37.0\", \"37.1\", \"37.2\", \"36.7\"]}, {\"line\": {\"color\": \"rgba(139,0,0, 0.6)\"}, \"name\": \"Sarah\", \"text\": [\"Sarah <br>Temperatur:  \\u00b0C\", \"Sarah <br>Temperatur:  \\u00b0C\", \"Sarah <br>Temperatur:  \\u00b0C\", \"Sarah <br>Temperatur:  \\u00b0C\", \"Sarah <br>Temperatur:  \\u00b0C\", \"Sarah <br>Temperatur:  \\u00b0C\", \"Sarah <br>Temperatur:  \\u00b0C\", \"Sarah <br>Temperatur:  \\u00b0C\", \"Sarah <br>Temperatur:  \\u00b0C\", \"Sarah <br>Temperatur:  \\u00b0C\", \"Sarah <br>Temperatur:  \\u00b0C\"], \"type\": \"scatter\", \"x\": [\"2020-11-18T15:09:00\", \"2020-11-18T15:32:00\", \"2020-11-18T15:40:00\", \"2020-11-18T17:21:00\", \"2020-11-18T17:26:00\", \"2020-11-18T20:58:00\", \"2020-11-18T22:49:00\", \"2020-11-19T06:45:00\", \"2020-11-19T10:27:00\", \"2020-11-19T11:06:00\", \"2020-11-19T13:46:00\"], \"y\": [\"\", \"\", \"\", \"\", \"\", \"\", \"\", \"\", \"\", \"\", \"\"]}, {\"line\": {\"color\": \"rgba(139,0,139, 0.6)\"}, \"name\": \"Steven\", \"text\": [\"Steven <br>Temperatur:  \\u00b0C\", \"Steven <br>Temperatur:  \\u00b0C\", \"Steven <br>Temperatur:  \\u00b0C\", \"Steven <br>Temperatur:  \\u00b0C\", \"Steven <br>Temperatur:  \\u00b0C\", \"Steven <br>Temperatur:  \\u00b0C\", \"Steven <br>Temperatur:  \\u00b0C\", \"Steven <br>Temperatur:  \\u00b0C\", \"Steven <br>Temperatur:  \\u00b0C\", \"Steven <br>Temperatur:  \\u00b0C\", \"Steven <br>Temperatur:  \\u00b0C\"], \"type\": \"scatter\", \"x\": [\"2020-11-18T15:09:00\", \"2020-11-18T15:32:00\", \"2020-11-18T15:40:00\", \"2020-11-18T17:21:00\", \"2020-11-18T17:26:00\", \"2020-11-18T20:58:00\", \"2020-11-18T22:49:00\", \"2020-11-19T06:45:00\", \"2020-11-19T10:27:00\", \"2020-11-19T11:06:00\", \"2020-11-19T13:46:00\"], \"y\": [\"\", \"\", \"\", \"\", \"\", \"\", \"\", \"\", \"\", \"\", \"\"]}],\n",
       "                        {\"template\": {\"data\": {\"bar\": [{\"error_x\": {\"color\": \"#2a3f5f\"}, \"error_y\": {\"color\": \"#2a3f5f\"}, \"marker\": {\"line\": {\"color\": \"white\", \"width\": 0.5}}, \"type\": \"bar\"}], \"barpolar\": [{\"marker\": {\"line\": {\"color\": \"white\", \"width\": 0.5}}, \"type\": \"barpolar\"}], \"carpet\": [{\"aaxis\": {\"endlinecolor\": \"#2a3f5f\", \"gridcolor\": \"#C8D4E3\", \"linecolor\": \"#C8D4E3\", \"minorgridcolor\": \"#C8D4E3\", \"startlinecolor\": \"#2a3f5f\"}, \"baxis\": {\"endlinecolor\": \"#2a3f5f\", \"gridcolor\": \"#C8D4E3\", \"linecolor\": \"#C8D4E3\", \"minorgridcolor\": \"#C8D4E3\", \"startlinecolor\": \"#2a3f5f\"}, \"type\": \"carpet\"}], \"choropleth\": [{\"colorbar\": {\"outlinewidth\": 0, \"ticks\": \"\"}, \"type\": \"choropleth\"}], \"contour\": [{\"colorbar\": {\"outlinewidth\": 0, \"ticks\": \"\"}, \"colorscale\": [[0.0, \"#0d0887\"], [0.1111111111111111, \"#46039f\"], [0.2222222222222222, \"#7201a8\"], [0.3333333333333333, \"#9c179e\"], [0.4444444444444444, \"#bd3786\"], [0.5555555555555556, \"#d8576b\"], [0.6666666666666666, \"#ed7953\"], [0.7777777777777778, \"#fb9f3a\"], [0.8888888888888888, \"#fdca26\"], [1.0, \"#f0f921\"]], \"type\": \"contour\"}], \"contourcarpet\": [{\"colorbar\": {\"outlinewidth\": 0, \"ticks\": \"\"}, \"type\": \"contourcarpet\"}], \"heatmap\": [{\"colorbar\": {\"outlinewidth\": 0, \"ticks\": \"\"}, \"colorscale\": [[0.0, \"#0d0887\"], [0.1111111111111111, \"#46039f\"], [0.2222222222222222, \"#7201a8\"], [0.3333333333333333, \"#9c179e\"], [0.4444444444444444, \"#bd3786\"], [0.5555555555555556, \"#d8576b\"], [0.6666666666666666, \"#ed7953\"], [0.7777777777777778, \"#fb9f3a\"], [0.8888888888888888, \"#fdca26\"], [1.0, \"#f0f921\"]], \"type\": \"heatmap\"}], \"heatmapgl\": [{\"colorbar\": {\"outlinewidth\": 0, \"ticks\": \"\"}, \"colorscale\": [[0.0, \"#0d0887\"], [0.1111111111111111, \"#46039f\"], [0.2222222222222222, \"#7201a8\"], [0.3333333333333333, \"#9c179e\"], [0.4444444444444444, \"#bd3786\"], [0.5555555555555556, \"#d8576b\"], [0.6666666666666666, \"#ed7953\"], [0.7777777777777778, \"#fb9f3a\"], [0.8888888888888888, \"#fdca26\"], [1.0, \"#f0f921\"]], \"type\": \"heatmapgl\"}], \"histogram\": [{\"marker\": {\"colorbar\": {\"outlinewidth\": 0, \"ticks\": \"\"}}, \"type\": \"histogram\"}], \"histogram2d\": [{\"colorbar\": {\"outlinewidth\": 0, \"ticks\": \"\"}, \"colorscale\": [[0.0, \"#0d0887\"], [0.1111111111111111, \"#46039f\"], [0.2222222222222222, \"#7201a8\"], [0.3333333333333333, \"#9c179e\"], [0.4444444444444444, \"#bd3786\"], [0.5555555555555556, \"#d8576b\"], [0.6666666666666666, \"#ed7953\"], [0.7777777777777778, \"#fb9f3a\"], [0.8888888888888888, \"#fdca26\"], [1.0, \"#f0f921\"]], \"type\": \"histogram2d\"}], \"histogram2dcontour\": [{\"colorbar\": {\"outlinewidth\": 0, \"ticks\": \"\"}, \"colorscale\": [[0.0, \"#0d0887\"], [0.1111111111111111, \"#46039f\"], [0.2222222222222222, \"#7201a8\"], [0.3333333333333333, \"#9c179e\"], [0.4444444444444444, \"#bd3786\"], [0.5555555555555556, \"#d8576b\"], [0.6666666666666666, \"#ed7953\"], [0.7777777777777778, \"#fb9f3a\"], [0.8888888888888888, \"#fdca26\"], [1.0, \"#f0f921\"]], \"type\": \"histogram2dcontour\"}], \"mesh3d\": [{\"colorbar\": {\"outlinewidth\": 0, \"ticks\": \"\"}, \"type\": \"mesh3d\"}], \"parcoords\": [{\"line\": {\"colorbar\": {\"outlinewidth\": 0, \"ticks\": \"\"}}, \"type\": \"parcoords\"}], \"pie\": [{\"automargin\": true, \"type\": \"pie\"}], \"scatter\": [{\"marker\": {\"colorbar\": {\"outlinewidth\": 0, \"ticks\": \"\"}}, \"type\": \"scatter\"}], \"scatter3d\": [{\"line\": {\"colorbar\": {\"outlinewidth\": 0, \"ticks\": \"\"}}, \"marker\": {\"colorbar\": {\"outlinewidth\": 0, \"ticks\": \"\"}}, \"type\": \"scatter3d\"}], \"scattercarpet\": [{\"marker\": {\"colorbar\": {\"outlinewidth\": 0, \"ticks\": \"\"}}, \"type\": \"scattercarpet\"}], \"scattergeo\": [{\"marker\": {\"colorbar\": {\"outlinewidth\": 0, \"ticks\": \"\"}}, \"type\": \"scattergeo\"}], \"scattergl\": [{\"marker\": {\"colorbar\": {\"outlinewidth\": 0, \"ticks\": \"\"}}, \"type\": \"scattergl\"}], \"scattermapbox\": [{\"marker\": {\"colorbar\": {\"outlinewidth\": 0, \"ticks\": \"\"}}, \"type\": \"scattermapbox\"}], \"scatterpolar\": [{\"marker\": {\"colorbar\": {\"outlinewidth\": 0, \"ticks\": \"\"}}, \"type\": \"scatterpolar\"}], \"scatterpolargl\": [{\"marker\": {\"colorbar\": {\"outlinewidth\": 0, \"ticks\": \"\"}}, \"type\": \"scatterpolargl\"}], \"scatterternary\": [{\"marker\": {\"colorbar\": {\"outlinewidth\": 0, \"ticks\": \"\"}}, \"type\": \"scatterternary\"}], \"surface\": [{\"colorbar\": {\"outlinewidth\": 0, \"ticks\": \"\"}, \"colorscale\": [[0.0, \"#0d0887\"], [0.1111111111111111, \"#46039f\"], [0.2222222222222222, \"#7201a8\"], [0.3333333333333333, \"#9c179e\"], [0.4444444444444444, \"#bd3786\"], [0.5555555555555556, \"#d8576b\"], [0.6666666666666666, \"#ed7953\"], [0.7777777777777778, \"#fb9f3a\"], [0.8888888888888888, \"#fdca26\"], [1.0, \"#f0f921\"]], \"type\": \"surface\"}], \"table\": [{\"cells\": {\"fill\": {\"color\": \"#EBF0F8\"}, \"line\": {\"color\": \"white\"}}, \"header\": {\"fill\": {\"color\": \"#C8D4E3\"}, \"line\": {\"color\": \"white\"}}, \"type\": \"table\"}]}, \"layout\": {\"annotationdefaults\": {\"arrowcolor\": \"#2a3f5f\", \"arrowhead\": 0, \"arrowwidth\": 1}, \"coloraxis\": {\"colorbar\": {\"outlinewidth\": 0, \"ticks\": \"\"}}, \"colorscale\": {\"diverging\": [[0, \"#8e0152\"], [0.1, \"#c51b7d\"], [0.2, \"#de77ae\"], [0.3, \"#f1b6da\"], [0.4, \"#fde0ef\"], [0.5, \"#f7f7f7\"], [0.6, \"#e6f5d0\"], [0.7, \"#b8e186\"], [0.8, \"#7fbc41\"], [0.9, \"#4d9221\"], [1, \"#276419\"]], \"sequential\": [[0.0, \"#0d0887\"], [0.1111111111111111, \"#46039f\"], [0.2222222222222222, \"#7201a8\"], [0.3333333333333333, \"#9c179e\"], [0.4444444444444444, \"#bd3786\"], [0.5555555555555556, \"#d8576b\"], [0.6666666666666666, \"#ed7953\"], [0.7777777777777778, \"#fb9f3a\"], [0.8888888888888888, \"#fdca26\"], [1.0, \"#f0f921\"]], \"sequentialminus\": [[0.0, \"#0d0887\"], [0.1111111111111111, \"#46039f\"], [0.2222222222222222, \"#7201a8\"], [0.3333333333333333, \"#9c179e\"], [0.4444444444444444, \"#bd3786\"], [0.5555555555555556, \"#d8576b\"], [0.6666666666666666, \"#ed7953\"], [0.7777777777777778, \"#fb9f3a\"], [0.8888888888888888, \"#fdca26\"], [1.0, \"#f0f921\"]]}, \"colorway\": [\"#636efa\", \"#EF553B\", \"#00cc96\", \"#ab63fa\", \"#FFA15A\", \"#19d3f3\", \"#FF6692\", \"#B6E880\", \"#FF97FF\", \"#FECB52\"], \"font\": {\"color\": \"#2a3f5f\"}, \"geo\": {\"bgcolor\": \"white\", \"lakecolor\": \"white\", \"landcolor\": \"white\", \"showlakes\": true, \"showland\": true, \"subunitcolor\": \"#C8D4E3\"}, \"hoverlabel\": {\"align\": \"left\"}, \"hovermode\": \"closest\", \"mapbox\": {\"style\": \"light\"}, \"paper_bgcolor\": \"white\", \"plot_bgcolor\": \"white\", \"polar\": {\"angularaxis\": {\"gridcolor\": \"#EBF0F8\", \"linecolor\": \"#EBF0F8\", \"ticks\": \"\"}, \"bgcolor\": \"white\", \"radialaxis\": {\"gridcolor\": \"#EBF0F8\", \"linecolor\": \"#EBF0F8\", \"ticks\": \"\"}}, \"scene\": {\"xaxis\": {\"backgroundcolor\": \"white\", \"gridcolor\": \"#DFE8F3\", \"gridwidth\": 2, \"linecolor\": \"#EBF0F8\", \"showbackground\": true, \"ticks\": \"\", \"zerolinecolor\": \"#EBF0F8\"}, \"yaxis\": {\"backgroundcolor\": \"white\", \"gridcolor\": \"#DFE8F3\", \"gridwidth\": 2, \"linecolor\": \"#EBF0F8\", \"showbackground\": true, \"ticks\": \"\", \"zerolinecolor\": \"#EBF0F8\"}, \"zaxis\": {\"backgroundcolor\": \"white\", \"gridcolor\": \"#DFE8F3\", \"gridwidth\": 2, \"linecolor\": \"#EBF0F8\", \"showbackground\": true, \"ticks\": \"\", \"zerolinecolor\": \"#EBF0F8\"}}, \"shapedefaults\": {\"line\": {\"color\": \"#2a3f5f\"}}, \"ternary\": {\"aaxis\": {\"gridcolor\": \"#DFE8F3\", \"linecolor\": \"#A2B1C6\", \"ticks\": \"\"}, \"baxis\": {\"gridcolor\": \"#DFE8F3\", \"linecolor\": \"#A2B1C6\", \"ticks\": \"\"}, \"bgcolor\": \"white\", \"caxis\": {\"gridcolor\": \"#DFE8F3\", \"linecolor\": \"#A2B1C6\", \"ticks\": \"\"}}, \"title\": {\"x\": 0.05}, \"xaxis\": {\"automargin\": true, \"gridcolor\": \"#EBF0F8\", \"linecolor\": \"#EBF0F8\", \"ticks\": \"\", \"title\": {\"standoff\": 15}, \"zerolinecolor\": \"#EBF0F8\", \"zerolinewidth\": 2}, \"yaxis\": {\"automargin\": true, \"gridcolor\": \"#EBF0F8\", \"linecolor\": \"#EBF0F8\", \"ticks\": \"\", \"title\": {\"standoff\": 15}, \"zerolinecolor\": \"#EBF0F8\", \"zerolinewidth\": 2}}}, \"title\": {\"text\": \"Fieber Messen\"}, \"xaxis\": {\"domain\": [0, 0.82], \"rangeslider\": {\"visible\": true}, \"type\": \"date\"}, \"yaxis\": {\"autorange\": false, \"range\": [36, 39], \"side\": \"left\", \"tickfont\": {\"color\": \"rgba(47,79,79, 1)\"}, \"title\": {\"font\": {\"color\": \"rgba(47,79,79, 1)\"}, \"text\": \"Temperatur (\\u00b0C)\"}, \"zeroline\": false}},\n",
       "                        {\"responsive\": true}\n",
       "                    ).then(function(){\n",
       "                            \n",
       "var gd = document.getElementById('44c0b9ee-570b-42e6-b260-9f22301c506a');\n",
       "var x = new MutationObserver(function (mutations, observer) {{\n",
       "        var display = window.getComputedStyle(gd).display;\n",
       "        if (!display || display === 'none') {{\n",
       "            console.log([gd, 'removed!']);\n",
       "            Plotly.purge(gd);\n",
       "            observer.disconnect();\n",
       "        }}\n",
       "}});\n",
       "\n",
       "// Listen for the removal of the full notebook cells\n",
       "var notebookContainer = gd.closest('#notebook-container');\n",
       "if (notebookContainer) {{\n",
       "    x.observe(notebookContainer, {childList: true});\n",
       "}}\n",
       "\n",
       "// Listen for the clearing of the current output cell\n",
       "var outputEl = gd.closest('.output');\n",
       "if (outputEl) {{\n",
       "    x.observe(outputEl, {childList: true});\n",
       "}}\n",
       "\n",
       "                        })\n",
       "                };\n",
       "                \n",
       "            </script>\n",
       "        </div>\n",
       "</body>\n",
       "</html>"
      ]
     },
     "metadata": {
      "tags": []
     },
     "output_type": "display_data"
    }
   ],
   "source": [
    "import plotly\n",
    "import plotly.graph_objs as go\n",
    "import pandas as pd\n",
    "\n",
    "michi = go.Scatter(\n",
    "    x = df['Time'],\n",
    "    y = df['Michi'],\n",
    "    name = 'Michi',\n",
    "    text = df['text_michi'],\n",
    "    line = dict(color = 'rgba(47,79,79, 1)')\n",
    ")\n",
    "\n",
    "sarah = go.Scatter(\n",
    "    x = df['Time'],\n",
    "    y = df['Sarah'],\n",
    "    name = 'Sarah',\n",
    "    text = df['text_sarah'],\n",
    "    line = dict(color = 'rgba(139,0,0, 0.6)')\n",
    ")\n",
    "\n",
    "steven = go.Scatter(\n",
    "    x  = df['Time'],\n",
    "    y  = df['Steven'],\n",
    "    name = 'Steven',\n",
    "    text = df['text_steven'],\n",
    "    line = dict(color = 'rgba(139,0,139, 0.6)')\n",
    ")\n",
    "\n",
    "data = [michi, sarah, steven]\n",
    "\n",
    "layout = go.Layout(\n",
    "    title='Fieber Messen',\n",
    "    xaxis=dict(\n",
    "        domain=[0, 0.82],        \n",
    "        rangeselector=dict(\n",
    "        ),\n",
    "        rangeslider=dict(\n",
    "            visible = True\n",
    "        ),\n",
    "        type='date'\n",
    "    ),\n",
    "\n",
    "    yaxis=dict(\n",
    "        title='Temperatur (°C)',\n",
    "        zeroline=False,\n",
    "        autorange=False,\n",
    "        side='left',\n",
    "        titlefont=dict(\n",
    "            color='rgba(47,79,79, 1)'\n",
    "        ),\n",
    "        tickfont=dict(\n",
    "            color='rgba(47,79,79, 1)',\n",
    "        \n",
    "        ),\n",
    "        range=[36, 39]#,\n",
    "        #anchor='free'\n",
    "        )\n",
    ")\n",
    "\n",
    "fig = go.Figure(data=data, layout=layout)\n",
    "fig.layout.template = 'plotly_white'\n",
    "try:\n",
    "  plot = plotly.offline.plot(fig,  filename='index.html', auto_open=True)\n",
    "except:\n",
    "  pass\n",
    "fig.show()\n"
   ]
  },
  {
   "cell_type": "code",
   "execution_count": 53,
   "metadata": {
    "colab": {
     "base_uri": "https://localhost:8080/",
     "height": 54
    },
    "id": "IaEQdGW9kfuH",
    "outputId": "3fa1a7c1-e657-4e53-d640-b953908bd520"
   },
   "outputs": [
    {
     "name": "stdout",
     "output_type": "stream",
     "text": [
      "Drive already mounted at /content/drive; to attempt to forcibly remount, call drive.mount(\"/content/drive\", force_remount=True).\n"
     ]
    },
    {
     "data": {
      "application/vnd.google.colaboratory.intrinsic+json": {
       "type": "string"
      },
      "text/plain": [
       "'/content/drive/MyDrive/x31.html'"
      ]
     },
     "execution_count": 53,
     "metadata": {
      "tags": []
     },
     "output_type": "execute_result"
    }
   ],
   "source": [
    "from google.colab import drive\n",
    "drive.mount('/content/drive')\n",
    "\n",
    "plotly.offline.plot(fig,  filename='/content/drive/MyDrive/x31.html', auto_open=True)"
   ]
  },
  {
   "cell_type": "code",
   "execution_count": null,
   "metadata": {
    "id": "cvvngosmtAnH"
   },
   "outputs": [],
   "source": []
  }
 ],
 "metadata": {
  "colab": {
   "authorship_tag": "ABX9TyMD1S1HC4R9AVdZXEfdxYrZ",
   "include_colab_link": true,
   "name": "Temperatur.ipynb",
   "provenance": []
  },
  "kernelspec": {
   "display_name": "Python 3",
   "language": "python",
   "name": "python3"
  },
  "language_info": {
   "codemirror_mode": {
    "name": "ipython",
    "version": 3
   },
   "file_extension": ".py",
   "mimetype": "text/x-python",
   "name": "python",
   "nbconvert_exporter": "python",
   "pygments_lexer": "ipython3",
   "version": "3.8.3"
  }
 },
 "nbformat": 4,
 "nbformat_minor": 4
}
