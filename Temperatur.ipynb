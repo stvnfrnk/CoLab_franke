{
  "nbformat": 4,
  "nbformat_minor": 0,
  "metadata": {
    "colab": {
      "name": "Temperatur.ipynb",
      "provenance": [],
      "authorship_tag": "ABX9TyNK5M5jZCrXP4heudavsenk",
      "include_colab_link": true
    },
    "kernelspec": {
      "name": "python3",
      "display_name": "Python 3"
    }
  },
  "cells": [
    {
      "cell_type": "markdown",
      "metadata": {
        "id": "view-in-github",
        "colab_type": "text"
      },
      "source": [
        "<a href=\"https://colab.research.google.com/github/stvnfrnk/CoLab_franke/blob/main/Temperatur.ipynb\" target=\"_parent\"><img src=\"https://colab.research.google.com/assets/colab-badge.svg\" alt=\"Open In Colab\"/></a>"
      ]
    },
    {
      "cell_type": "code",
      "metadata": {
        "id": "HRI6v-4DhOC_"
      },
      "source": [
        "from google.colab import auth\n",
        "auth.authenticate_user()\n",
        "import gspread\n",
        "from oauth2client.client import GoogleCredentials\n",
        "gc = gspread.authorize(GoogleCredentials.get_application_default())\n"
      ],
      "execution_count": 2,
      "outputs": []
    },
    {
      "cell_type": "code",
      "metadata": {
        "colab": {
          "base_uri": "https://localhost:8080/",
          "height": 542
        },
        "id": "u3Jy0aFikAl5",
        "outputId": "cca99aa7-7959-492a-8ef9-505788d1b1cd"
      },
      "source": [
        "import plotly\n",
        "import plotly.graph_objs as go\n",
        "\n",
        "import pandas as pd\n",
        "\n",
        "sheet = 'https://docs.google.com/spreadsheets/d/1gwQN0dJQDqBjghCPWbqITTDcYQraGdlFw2gJNAD-ax4/edit#gid=0'\n",
        "#wb    = gc.open_by_url('https://docs.google.com/spreadsheets/d/1YTD0pxdGTGAzM8IiWDfLL4AZPjrFRN-vpGUiLQWOtoI/edit#gid=1512387781')\n",
        "wb    = gc.open_by_url(sheet)\n",
        "sheet = wb.worksheet('tb_1')\n",
        "data  = sheet.get_all_values()\n",
        "\n",
        "df = pd.DataFrame(data)\n",
        "df.columns = df.iloc[0]\n",
        "df = df.drop(df.index[0])\n",
        "df['Time'] = df['Time'].apply(pd.to_datetime)\n",
        "\n",
        "df['text_michi'] = 'Michi <br>Temperatur: ' + df['Michi'].astype(str) + ' °C'\n",
        "df['text_sarah'] = 'Sarah <br>Temperatur: ' + df['Sarah'].astype(str) + ' °C'\n",
        "df['text_steven'] = 'Steven <br>Temperatur: ' + df['Steven'].astype(str) + ' °C'\n",
        "\n",
        "\n",
        "michi = go.Scatter(\n",
        "    x = df['Time'],\n",
        "    y = df['Michi'],\n",
        "    mode='lines+markers',\n",
        "    connectgaps=True,\n",
        "    name = 'Michi',\n",
        "    text = df['text_michi'],\n",
        "    line = dict(color = 'tomato')\n",
        ")\n",
        "\n",
        "sarah = go.Scatter(\n",
        "    x = df['Time'],\n",
        "    y = df['Sarah'],\n",
        "    mode='lines+markers',\n",
        "    connectgaps=True,\n",
        "    name = 'Sarah',\n",
        "    text = df['text_sarah'],\n",
        "    line = dict(color = 'fuchsia')\n",
        ")\n",
        "\n",
        "steven = go.Scatter(\n",
        "    x  = df['Time'],\n",
        "    y  = df['Steven'],\n",
        "    mode='lines+markers',\n",
        "    connectgaps=True,\n",
        "    name = 'Steven',\n",
        "    text = df['text_steven'],\n",
        "    line = dict(color = 'yellowgreen')\n",
        ")\n",
        "\n",
        "data = [michi, sarah, steven]\n",
        "\n",
        "layout = go.Layout(\n",
        "    title='Fieber Messen',\n",
        "    xaxis=dict(\n",
        "        domain=[0, 0.82],        \n",
        "        rangeselector=dict(\n",
        "        ),\n",
        "        rangeslider=dict(\n",
        "            visible = True\n",
        "        ),\n",
        "        type='date'\n",
        "    ),\n",
        "\n",
        "    yaxis=dict(\n",
        "        title='Temperatur (°C)',\n",
        "        zeroline=False,\n",
        "        autorange=False,\n",
        "        side='left',\n",
        "        color='white',\n",
        "        titlefont=dict(\n",
        "            color='white'\n",
        "        ),\n",
        "        tickfont=dict(\n",
        "            color='white',\n",
        "        \n",
        "        ),\n",
        "        range=[36, 39]#,\n",
        "        #anchor='free'\n",
        "        )\n",
        ")\n",
        "\n",
        "fig = go.Figure(data=data, layout=layout)\n",
        "fig.update_yaxes(tickfont=dict(color='white'))\n",
        "fig.layout.template = 'plotly_dark'\n",
        "try:\n",
        "  plot = plotly.offline.plot(fig,  filename='index.html', auto_open=True)\n",
        "except:\n",
        "  pass\n",
        "fig.show()\n"
      ],
      "execution_count": 12,
      "outputs": [
        {
          "output_type": "display_data",
          "data": {
            "text/html": [
              "<html>\n",
              "<head><meta charset=\"utf-8\" /></head>\n",
              "<body>\n",
              "    <div>\n",
              "            <script src=\"https://cdnjs.cloudflare.com/ajax/libs/mathjax/2.7.5/MathJax.js?config=TeX-AMS-MML_SVG\"></script><script type=\"text/javascript\">if (window.MathJax) {MathJax.Hub.Config({SVG: {font: \"STIX-Web\"}});}</script>\n",
              "                <script type=\"text/javascript\">window.PlotlyConfig = {MathJaxConfig: 'local'};</script>\n",
              "        <script src=\"https://cdn.plot.ly/plotly-latest.min.js\"></script>    \n",
              "            <div id=\"d5cc7ee6-5afb-4554-9abe-9786be0cd754\" class=\"plotly-graph-div\" style=\"height:525px; width:100%;\"></div>\n",
              "            <script type=\"text/javascript\">\n",
              "                \n",
              "                    window.PLOTLYENV=window.PLOTLYENV || {};\n",
              "                    \n",
              "                if (document.getElementById(\"d5cc7ee6-5afb-4554-9abe-9786be0cd754\")) {\n",
              "                    Plotly.newPlot(\n",
              "                        'd5cc7ee6-5afb-4554-9abe-9786be0cd754',\n",
              "                        [{\"connectgaps\": true, \"line\": {\"color\": \"tomato\"}, \"mode\": \"lines+markers\", \"name\": \"Michi\", \"text\": [\"Michi <br>Temperatur: 37.0 \\u00b0C\", \"Michi <br>Temperatur: 36.6 \\u00b0C\", \"Michi <br>Temperatur: 37.7 \\u00b0C\", \"Michi <br>Temperatur: 37.9 \\u00b0C\", \"Michi <br>Temperatur: 37.5 \\u00b0C\", \"Michi <br>Temperatur: 37.1 \\u00b0C\", \"Michi <br>Temperatur: 36.8 \\u00b0C\", \"Michi <br>Temperatur: 37.0 \\u00b0C\", \"Michi <br>Temperatur: 37.1 \\u00b0C\", \"Michi <br>Temperatur: 37.2 \\u00b0C\", \"Michi <br>Temperatur: 36.7 \\u00b0C\", \"Michi <br>Temperatur: 37.6 \\u00b0C\", \"Michi <br>Temperatur: 37.0 \\u00b0C\", \"Michi <br>Temperatur: 36.3 \\u00b0C\", \"Michi <br>Temperatur: 36.2 \\u00b0C\", \"Michi <br>Temperatur: 36.1 \\u00b0C\", \"Michi <br>Temperatur:  \\u00b0C\"], \"type\": \"scatter\", \"x\": [\"2020-11-18T15:09:00\", \"2020-11-18T15:32:00\", \"2020-11-18T15:40:00\", \"2020-11-18T17:21:00\", \"2020-11-18T17:26:00\", \"2020-11-18T20:58:00\", \"2020-11-18T22:49:00\", \"2020-11-19T06:45:00\", \"2020-11-19T10:27:00\", \"2020-11-19T11:06:00\", \"2020-11-19T13:46:00\", \"2020-11-19T16:02:00\", \"2020-11-19T19:01:00\", \"2020-11-19T23:45:00\", \"2020-11-20T10:00:00\", \"2020-11-20T13:14:00\", \"2020-11-20T15:21:00\"], \"y\": [\"37.0\", \"36.6\", \"37.7\", \"37.9\", \"37.5\", \"37.1\", \"36.8\", \"37.0\", \"37.1\", \"37.2\", \"36.7\", \"37.6\", \"37.0\", \"36.3\", \"36.2\", \"36.1\", \"\"]}, {\"connectgaps\": true, \"line\": {\"color\": \"fuchsia\"}, \"mode\": \"lines+markers\", \"name\": \"Sarah\", \"text\": [\"Sarah <br>Temperatur:  \\u00b0C\", \"Sarah <br>Temperatur:  \\u00b0C\", \"Sarah <br>Temperatur:  \\u00b0C\", \"Sarah <br>Temperatur:  \\u00b0C\", \"Sarah <br>Temperatur:  \\u00b0C\", \"Sarah <br>Temperatur:  \\u00b0C\", \"Sarah <br>Temperatur:  \\u00b0C\", \"Sarah <br>Temperatur:  \\u00b0C\", \"Sarah <br>Temperatur:  \\u00b0C\", \"Sarah <br>Temperatur:  \\u00b0C\", \"Sarah <br>Temperatur:  \\u00b0C\", \"Sarah <br>Temperatur:  \\u00b0C\", \"Sarah <br>Temperatur:  \\u00b0C\", \"Sarah <br>Temperatur:  \\u00b0C\", \"Sarah <br>Temperatur: 36.8 \\u00b0C\", \"Sarah <br>Temperatur:  \\u00b0C\", \"Sarah <br>Temperatur: 36.9 \\u00b0C\"], \"type\": \"scatter\", \"x\": [\"2020-11-18T15:09:00\", \"2020-11-18T15:32:00\", \"2020-11-18T15:40:00\", \"2020-11-18T17:21:00\", \"2020-11-18T17:26:00\", \"2020-11-18T20:58:00\", \"2020-11-18T22:49:00\", \"2020-11-19T06:45:00\", \"2020-11-19T10:27:00\", \"2020-11-19T11:06:00\", \"2020-11-19T13:46:00\", \"2020-11-19T16:02:00\", \"2020-11-19T19:01:00\", \"2020-11-19T23:45:00\", \"2020-11-20T10:00:00\", \"2020-11-20T13:14:00\", \"2020-11-20T15:21:00\"], \"y\": [\"\", \"\", \"\", \"\", \"\", \"\", \"\", \"\", \"\", \"\", \"\", \"\", \"\", \"\", \"36.8\", \"\", \"36.9\"]}, {\"connectgaps\": true, \"line\": {\"color\": \"yellowgreen\"}, \"mode\": \"lines+markers\", \"name\": \"Steven\", \"text\": [\"Steven <br>Temperatur:  \\u00b0C\", \"Steven <br>Temperatur:  \\u00b0C\", \"Steven <br>Temperatur:  \\u00b0C\", \"Steven <br>Temperatur:  \\u00b0C\", \"Steven <br>Temperatur:  \\u00b0C\", \"Steven <br>Temperatur:  \\u00b0C\", \"Steven <br>Temperatur:  \\u00b0C\", \"Steven <br>Temperatur:  \\u00b0C\", \"Steven <br>Temperatur:  \\u00b0C\", \"Steven <br>Temperatur:  \\u00b0C\", \"Steven <br>Temperatur:  \\u00b0C\", \"Steven <br>Temperatur:  \\u00b0C\", \"Steven <br>Temperatur:  \\u00b0C\", \"Steven <br>Temperatur:  \\u00b0C\", \"Steven <br>Temperatur: 36.2 \\u00b0C\", \"Steven <br>Temperatur:  \\u00b0C\", \"Steven <br>Temperatur: 36.3 \\u00b0C\"], \"type\": \"scatter\", \"x\": [\"2020-11-18T15:09:00\", \"2020-11-18T15:32:00\", \"2020-11-18T15:40:00\", \"2020-11-18T17:21:00\", \"2020-11-18T17:26:00\", \"2020-11-18T20:58:00\", \"2020-11-18T22:49:00\", \"2020-11-19T06:45:00\", \"2020-11-19T10:27:00\", \"2020-11-19T11:06:00\", \"2020-11-19T13:46:00\", \"2020-11-19T16:02:00\", \"2020-11-19T19:01:00\", \"2020-11-19T23:45:00\", \"2020-11-20T10:00:00\", \"2020-11-20T13:14:00\", \"2020-11-20T15:21:00\"], \"y\": [\"\", \"\", \"\", \"\", \"\", \"\", \"\", \"\", \"\", \"\", \"\", \"\", \"\", \"\", \"36.2\", \"\", \"36.3\"]}],\n",
              "                        {\"template\": {\"data\": {\"bar\": [{\"error_x\": {\"color\": \"#f2f5fa\"}, \"error_y\": {\"color\": \"#f2f5fa\"}, \"marker\": {\"line\": {\"color\": \"rgb(17,17,17)\", \"width\": 0.5}}, \"type\": \"bar\"}], \"barpolar\": [{\"marker\": {\"line\": {\"color\": \"rgb(17,17,17)\", \"width\": 0.5}}, \"type\": \"barpolar\"}], \"carpet\": [{\"aaxis\": {\"endlinecolor\": \"#A2B1C6\", \"gridcolor\": \"#506784\", \"linecolor\": \"#506784\", \"minorgridcolor\": \"#506784\", \"startlinecolor\": \"#A2B1C6\"}, \"baxis\": {\"endlinecolor\": \"#A2B1C6\", \"gridcolor\": \"#506784\", \"linecolor\": \"#506784\", \"minorgridcolor\": \"#506784\", \"startlinecolor\": \"#A2B1C6\"}, \"type\": \"carpet\"}], \"choropleth\": [{\"colorbar\": {\"outlinewidth\": 0, \"ticks\": \"\"}, \"type\": \"choropleth\"}], \"contour\": [{\"colorbar\": {\"outlinewidth\": 0, \"ticks\": \"\"}, \"colorscale\": [[0.0, \"#0d0887\"], [0.1111111111111111, \"#46039f\"], [0.2222222222222222, \"#7201a8\"], [0.3333333333333333, \"#9c179e\"], [0.4444444444444444, \"#bd3786\"], [0.5555555555555556, \"#d8576b\"], [0.6666666666666666, \"#ed7953\"], [0.7777777777777778, \"#fb9f3a\"], [0.8888888888888888, \"#fdca26\"], [1.0, \"#f0f921\"]], \"type\": \"contour\"}], \"contourcarpet\": [{\"colorbar\": {\"outlinewidth\": 0, \"ticks\": \"\"}, \"type\": \"contourcarpet\"}], \"heatmap\": [{\"colorbar\": {\"outlinewidth\": 0, \"ticks\": \"\"}, \"colorscale\": [[0.0, \"#0d0887\"], [0.1111111111111111, \"#46039f\"], [0.2222222222222222, \"#7201a8\"], [0.3333333333333333, \"#9c179e\"], [0.4444444444444444, \"#bd3786\"], [0.5555555555555556, \"#d8576b\"], [0.6666666666666666, \"#ed7953\"], [0.7777777777777778, \"#fb9f3a\"], [0.8888888888888888, \"#fdca26\"], [1.0, \"#f0f921\"]], \"type\": \"heatmap\"}], \"heatmapgl\": [{\"colorbar\": {\"outlinewidth\": 0, \"ticks\": \"\"}, \"colorscale\": [[0.0, \"#0d0887\"], [0.1111111111111111, \"#46039f\"], [0.2222222222222222, \"#7201a8\"], [0.3333333333333333, \"#9c179e\"], [0.4444444444444444, \"#bd3786\"], [0.5555555555555556, \"#d8576b\"], [0.6666666666666666, \"#ed7953\"], [0.7777777777777778, \"#fb9f3a\"], [0.8888888888888888, \"#fdca26\"], [1.0, \"#f0f921\"]], \"type\": \"heatmapgl\"}], \"histogram\": [{\"marker\": {\"colorbar\": {\"outlinewidth\": 0, \"ticks\": \"\"}}, \"type\": \"histogram\"}], \"histogram2d\": [{\"colorbar\": {\"outlinewidth\": 0, \"ticks\": \"\"}, \"colorscale\": [[0.0, \"#0d0887\"], [0.1111111111111111, \"#46039f\"], [0.2222222222222222, \"#7201a8\"], [0.3333333333333333, \"#9c179e\"], [0.4444444444444444, \"#bd3786\"], [0.5555555555555556, \"#d8576b\"], [0.6666666666666666, \"#ed7953\"], [0.7777777777777778, \"#fb9f3a\"], [0.8888888888888888, \"#fdca26\"], [1.0, \"#f0f921\"]], \"type\": \"histogram2d\"}], \"histogram2dcontour\": [{\"colorbar\": {\"outlinewidth\": 0, \"ticks\": \"\"}, \"colorscale\": [[0.0, \"#0d0887\"], [0.1111111111111111, \"#46039f\"], [0.2222222222222222, \"#7201a8\"], [0.3333333333333333, \"#9c179e\"], [0.4444444444444444, \"#bd3786\"], [0.5555555555555556, \"#d8576b\"], [0.6666666666666666, \"#ed7953\"], [0.7777777777777778, \"#fb9f3a\"], [0.8888888888888888, \"#fdca26\"], [1.0, \"#f0f921\"]], \"type\": \"histogram2dcontour\"}], \"mesh3d\": [{\"colorbar\": {\"outlinewidth\": 0, \"ticks\": \"\"}, \"type\": \"mesh3d\"}], \"parcoords\": [{\"line\": {\"colorbar\": {\"outlinewidth\": 0, \"ticks\": \"\"}}, \"type\": \"parcoords\"}], \"pie\": [{\"automargin\": true, \"type\": \"pie\"}], \"scatter\": [{\"marker\": {\"line\": {\"color\": \"#283442\"}}, \"type\": \"scatter\"}], \"scatter3d\": [{\"line\": {\"colorbar\": {\"outlinewidth\": 0, \"ticks\": \"\"}}, \"marker\": {\"colorbar\": {\"outlinewidth\": 0, \"ticks\": \"\"}}, \"type\": \"scatter3d\"}], \"scattercarpet\": [{\"marker\": {\"colorbar\": {\"outlinewidth\": 0, \"ticks\": \"\"}}, \"type\": \"scattercarpet\"}], \"scattergeo\": [{\"marker\": {\"colorbar\": {\"outlinewidth\": 0, \"ticks\": \"\"}}, \"type\": \"scattergeo\"}], \"scattergl\": [{\"marker\": {\"line\": {\"color\": \"#283442\"}}, \"type\": \"scattergl\"}], \"scattermapbox\": [{\"marker\": {\"colorbar\": {\"outlinewidth\": 0, \"ticks\": \"\"}}, \"type\": \"scattermapbox\"}], \"scatterpolar\": [{\"marker\": {\"colorbar\": {\"outlinewidth\": 0, \"ticks\": \"\"}}, \"type\": \"scatterpolar\"}], \"scatterpolargl\": [{\"marker\": {\"colorbar\": {\"outlinewidth\": 0, \"ticks\": \"\"}}, \"type\": \"scatterpolargl\"}], \"scatterternary\": [{\"marker\": {\"colorbar\": {\"outlinewidth\": 0, \"ticks\": \"\"}}, \"type\": \"scatterternary\"}], \"surface\": [{\"colorbar\": {\"outlinewidth\": 0, \"ticks\": \"\"}, \"colorscale\": [[0.0, \"#0d0887\"], [0.1111111111111111, \"#46039f\"], [0.2222222222222222, \"#7201a8\"], [0.3333333333333333, \"#9c179e\"], [0.4444444444444444, \"#bd3786\"], [0.5555555555555556, \"#d8576b\"], [0.6666666666666666, \"#ed7953\"], [0.7777777777777778, \"#fb9f3a\"], [0.8888888888888888, \"#fdca26\"], [1.0, \"#f0f921\"]], \"type\": \"surface\"}], \"table\": [{\"cells\": {\"fill\": {\"color\": \"#506784\"}, \"line\": {\"color\": \"rgb(17,17,17)\"}}, \"header\": {\"fill\": {\"color\": \"#2a3f5f\"}, \"line\": {\"color\": \"rgb(17,17,17)\"}}, \"type\": \"table\"}]}, \"layout\": {\"annotationdefaults\": {\"arrowcolor\": \"#f2f5fa\", \"arrowhead\": 0, \"arrowwidth\": 1}, \"coloraxis\": {\"colorbar\": {\"outlinewidth\": 0, \"ticks\": \"\"}}, \"colorscale\": {\"diverging\": [[0, \"#8e0152\"], [0.1, \"#c51b7d\"], [0.2, \"#de77ae\"], [0.3, \"#f1b6da\"], [0.4, \"#fde0ef\"], [0.5, \"#f7f7f7\"], [0.6, \"#e6f5d0\"], [0.7, \"#b8e186\"], [0.8, \"#7fbc41\"], [0.9, \"#4d9221\"], [1, \"#276419\"]], \"sequential\": [[0.0, \"#0d0887\"], [0.1111111111111111, \"#46039f\"], [0.2222222222222222, \"#7201a8\"], [0.3333333333333333, \"#9c179e\"], [0.4444444444444444, \"#bd3786\"], [0.5555555555555556, \"#d8576b\"], [0.6666666666666666, \"#ed7953\"], [0.7777777777777778, \"#fb9f3a\"], [0.8888888888888888, \"#fdca26\"], [1.0, \"#f0f921\"]], \"sequentialminus\": [[0.0, \"#0d0887\"], [0.1111111111111111, \"#46039f\"], [0.2222222222222222, \"#7201a8\"], [0.3333333333333333, \"#9c179e\"], [0.4444444444444444, \"#bd3786\"], [0.5555555555555556, \"#d8576b\"], [0.6666666666666666, \"#ed7953\"], [0.7777777777777778, \"#fb9f3a\"], [0.8888888888888888, \"#fdca26\"], [1.0, \"#f0f921\"]]}, \"colorway\": [\"#636efa\", \"#EF553B\", \"#00cc96\", \"#ab63fa\", \"#FFA15A\", \"#19d3f3\", \"#FF6692\", \"#B6E880\", \"#FF97FF\", \"#FECB52\"], \"font\": {\"color\": \"#f2f5fa\"}, \"geo\": {\"bgcolor\": \"rgb(17,17,17)\", \"lakecolor\": \"rgb(17,17,17)\", \"landcolor\": \"rgb(17,17,17)\", \"showlakes\": true, \"showland\": true, \"subunitcolor\": \"#506784\"}, \"hoverlabel\": {\"align\": \"left\"}, \"hovermode\": \"closest\", \"mapbox\": {\"style\": \"dark\"}, \"paper_bgcolor\": \"rgb(17,17,17)\", \"plot_bgcolor\": \"rgb(17,17,17)\", \"polar\": {\"angularaxis\": {\"gridcolor\": \"#506784\", \"linecolor\": \"#506784\", \"ticks\": \"\"}, \"bgcolor\": \"rgb(17,17,17)\", \"radialaxis\": {\"gridcolor\": \"#506784\", \"linecolor\": \"#506784\", \"ticks\": \"\"}}, \"scene\": {\"xaxis\": {\"backgroundcolor\": \"rgb(17,17,17)\", \"gridcolor\": \"#506784\", \"gridwidth\": 2, \"linecolor\": \"#506784\", \"showbackground\": true, \"ticks\": \"\", \"zerolinecolor\": \"#C8D4E3\"}, \"yaxis\": {\"backgroundcolor\": \"rgb(17,17,17)\", \"gridcolor\": \"#506784\", \"gridwidth\": 2, \"linecolor\": \"#506784\", \"showbackground\": true, \"ticks\": \"\", \"zerolinecolor\": \"#C8D4E3\"}, \"zaxis\": {\"backgroundcolor\": \"rgb(17,17,17)\", \"gridcolor\": \"#506784\", \"gridwidth\": 2, \"linecolor\": \"#506784\", \"showbackground\": true, \"ticks\": \"\", \"zerolinecolor\": \"#C8D4E3\"}}, \"shapedefaults\": {\"line\": {\"color\": \"#f2f5fa\"}}, \"sliderdefaults\": {\"bgcolor\": \"#C8D4E3\", \"bordercolor\": \"rgb(17,17,17)\", \"borderwidth\": 1, \"tickwidth\": 0}, \"ternary\": {\"aaxis\": {\"gridcolor\": \"#506784\", \"linecolor\": \"#506784\", \"ticks\": \"\"}, \"baxis\": {\"gridcolor\": \"#506784\", \"linecolor\": \"#506784\", \"ticks\": \"\"}, \"bgcolor\": \"rgb(17,17,17)\", \"caxis\": {\"gridcolor\": \"#506784\", \"linecolor\": \"#506784\", \"ticks\": \"\"}}, \"title\": {\"x\": 0.05}, \"updatemenudefaults\": {\"bgcolor\": \"#506784\", \"borderwidth\": 0}, \"xaxis\": {\"automargin\": true, \"gridcolor\": \"#283442\", \"linecolor\": \"#506784\", \"ticks\": \"\", \"title\": {\"standoff\": 15}, \"zerolinecolor\": \"#283442\", \"zerolinewidth\": 2}, \"yaxis\": {\"automargin\": true, \"gridcolor\": \"#283442\", \"linecolor\": \"#506784\", \"ticks\": \"\", \"title\": {\"standoff\": 15}, \"zerolinecolor\": \"#283442\", \"zerolinewidth\": 2}}}, \"title\": {\"text\": \"Fieber Messen\"}, \"xaxis\": {\"domain\": [0, 0.82], \"rangeslider\": {\"visible\": true}, \"type\": \"date\"}, \"yaxis\": {\"autorange\": false, \"color\": \"white\", \"range\": [36, 39], \"side\": \"left\", \"tickfont\": {\"color\": \"white\"}, \"title\": {\"font\": {\"color\": \"white\"}, \"text\": \"Temperatur (\\u00b0C)\"}, \"zeroline\": false}},\n",
              "                        {\"responsive\": true}\n",
              "                    ).then(function(){\n",
              "                            \n",
              "var gd = document.getElementById('d5cc7ee6-5afb-4554-9abe-9786be0cd754');\n",
              "var x = new MutationObserver(function (mutations, observer) {{\n",
              "        var display = window.getComputedStyle(gd).display;\n",
              "        if (!display || display === 'none') {{\n",
              "            console.log([gd, 'removed!']);\n",
              "            Plotly.purge(gd);\n",
              "            observer.disconnect();\n",
              "        }}\n",
              "}});\n",
              "\n",
              "// Listen for the removal of the full notebook cells\n",
              "var notebookContainer = gd.closest('#notebook-container');\n",
              "if (notebookContainer) {{\n",
              "    x.observe(notebookContainer, {childList: true});\n",
              "}}\n",
              "\n",
              "// Listen for the clearing of the current output cell\n",
              "var outputEl = gd.closest('.output');\n",
              "if (outputEl) {{\n",
              "    x.observe(outputEl, {childList: true});\n",
              "}}\n",
              "\n",
              "                        })\n",
              "                };\n",
              "                \n",
              "            </script>\n",
              "        </div>\n",
              "</body>\n",
              "</html>"
            ]
          },
          "metadata": {
            "tags": []
          }
        }
      ]
    },
    {
      "cell_type": "code",
      "metadata": {
        "colab": {
          "base_uri": "https://localhost:8080/",
          "height": 54
        },
        "id": "IaEQdGW9kfuH",
        "outputId": "b810a77e-4fc3-4e2d-a49e-d228662828c3"
      },
      "source": [
        "from google.colab import drive\n",
        "drive.mount('/content/drive')\n",
        "\n",
        "plotly.offline.plot(fig,  filename='/content/drive/MyDrive/index.html', auto_open=True)"
      ],
      "execution_count": 11,
      "outputs": [
        {
          "output_type": "stream",
          "text": [
            "Mounted at /content/drive\n"
          ],
          "name": "stdout"
        },
        {
          "output_type": "execute_result",
          "data": {
            "application/vnd.google.colaboratory.intrinsic+json": {
              "type": "string"
            },
            "text/plain": [
              "'/content/drive/MyDrive/index.html'"
            ]
          },
          "metadata": {
            "tags": []
          },
          "execution_count": 11
        }
      ]
    },
    {
      "cell_type": "code",
      "metadata": {
        "id": "cvvngosmtAnH"
      },
      "source": [
        ""
      ],
      "execution_count": null,
      "outputs": []
    }
  ]
}