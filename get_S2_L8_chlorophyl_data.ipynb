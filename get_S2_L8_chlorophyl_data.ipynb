{
  "nbformat": 4,
  "nbformat_minor": 0,
  "metadata": {
    "colab": {
      "name": "get_S2_L8_chlorophyl_data.ipynb",
      "provenance": [],
      "collapsed_sections": [],
      "toc_visible": true,
      "include_colab_link": true
    },
    "kernelspec": {
      "display_name": "Python 3",
      "name": "python3"
    }
  },
  "cells": [
    {
      "cell_type": "markdown",
      "metadata": {
        "id": "view-in-github",
        "colab_type": "text"
      },
      "source": [
        "<a href=\"https://colab.research.google.com/github/stvnfrnk/CoLab_franke/blob/main/get_S2_L8_chlorophyl_data.ipynb\" target=\"_parent\"><img src=\"https://colab.research.google.com/assets/colab-badge.svg\" alt=\"Open In Colab\"/></a>"
      ]
    },
    {
      "cell_type": "markdown",
      "metadata": {
        "id": "LAZiVi13zTE7"
      },
      "source": [
        "# Acquire Sentinel2/Landsat8 data for a certain location and plot chlorophyl concentrations\n",
        "\n",
        "### start earth engine\n"
      ]
    },
    {
      "cell_type": "code",
      "metadata": {
        "id": "65RChERMzQHZ"
      },
      "source": [
        "import ee\n",
        "\n",
        "ee.Authenticate()\n",
        "ee.Initialize()"
      ],
      "execution_count": null,
      "outputs": []
    },
    {
      "cell_type": "markdown",
      "metadata": {
        "id": "o93tTNbalRE7"
      },
      "source": [
        "### define region, bands, max. cloud coverage and create image collection"
      ]
    },
    {
      "cell_type": "code",
      "metadata": {
        "id": "zaQdo_siyfwB"
      },
      "source": [
        "region = '_gili_coast'\n",
        "\n",
        "P_gili = ee.Geometry.Point(116.03605487730204,-8.349692403728154)\n",
        "\n",
        "\n",
        "R_gili_large = ee.Geometry.Polygon([\n",
        "                                    [\n",
        "                                    [116.00489833738504,-8.385612290198798],\n",
        "                                    [116.07442119505106,-8.385612290198798],\n",
        "                                    [116.07442119505106,-8.311221342583268],\n",
        "                                    [116.00489833738504,-8.311221342583268],\n",
        "                                    [116.00489833738504,-8.385612290198798]\n",
        "                                    ]\n",
        "                                  ]);\n",
        "\n",
        "Bands = ['B2', 'B3', 'B4']\n",
        "\n",
        "loc = P_gili\n",
        "reg = R_gili_large\n",
        "\n",
        "if 0:\n",
        "  collection_S2 = ee.ImageCollection('COPERNICUS/S2_SR') \\\n",
        "      .filterBounds(loc) \\\n",
        "      .filterDate('2019-01-01', '2020-11-01') \\\n",
        "      .filter(ee.Filter.lt('CLOUDY_PIXEL_PERCENTAGE',30)).select(Bands)\n",
        "\n",
        "  dates = collection_S2.aggregate_array('system:time_start').map(lambda time_start: ee.Date(time_start).format('Y-MM-dd_hh_mm')).getInfo()\n",
        "\n",
        "  for date in sorted(dates):\n",
        "    print(date)\n",
        "\n",
        "if 1:\n",
        "  collection_L8 = ee.ImageCollection('LANDSAT/LC08/C01/T1_SR') \\\n",
        "      .filterBounds(loc) \\\n",
        "      .filterDate('2019-01-01', '2020-11-01').select(Bands)\n",
        "\n",
        "  dates = collection_L8.aggregate_array('system:time_start').map(lambda time_start: ee.Date(time_start).format('Y-MM-dd_hh_mm')).getInfo()\n",
        "\n",
        "  for date in sorted(dates):\n",
        "    print(date)"
      ],
      "execution_count": null,
      "outputs": []
    },
    {
      "cell_type": "markdown",
      "metadata": {
        "id": "g46Fc4K6lcWg"
      },
      "source": [
        "### submit jobs to collect single images"
      ]
    },
    {
      "cell_type": "code",
      "metadata": {
        "id": "Lr1Li2bRzHJV"
      },
      "source": [
        "# For Sentinel 2\n",
        "# This is OK for small collections\n",
        "collectionList = collection_S2.toList(collection_S2.size())\n",
        "collectionSize = collectionList.size().getInfo()\n",
        "\n",
        "for i in range(collectionSize):\n",
        "    ee.batch.Export.image.toDrive(\n",
        "        image = ee.Image(collectionList.get(i)).clip(reg),\n",
        "        fileNamePrefix = 'S2_SR_' + dates[i] + region).start()\n",
        "    \n",
        "    print('Starting Task: S2_SR_{}_{}'.format(dates[i], region))"
      ],
      "execution_count": null,
      "outputs": []
    },
    {
      "cell_type": "code",
      "metadata": {
        "id": "AfIo3eZtnn6J"
      },
      "source": [
        "# For Landsat 8\n",
        "# This is OK for small collections\n",
        "collectionList = collection_L8.toList(collection_L8.size())\n",
        "collectionSize = collectionList.size().getInfo()\n",
        "\n",
        "for i in range(collectionSize):\n",
        "    ee.batch.Export.image.toDrive(\n",
        "        image = ee.Image(collectionList.get(i)).clip(reg),\n",
        "        fileNamePrefix = 'L8_' + dates[i] + region).start()\n",
        "    \n",
        "    print('Starting Task: L8_SR_{}_{}'.format(dates[i], region))"
      ],
      "execution_count": null,
      "outputs": []
    },
    {
      "cell_type": "markdown",
      "metadata": {
        "id": "IvxEytDPyr6x"
      },
      "source": [
        "## Process the Data"
      ]
    },
    {
      "cell_type": "code",
      "metadata": {
        "id": "gQ_QhpQaVsN7"
      },
      "source": [
        "!pip install rasterio\n",
        "!pip install geopandas\n",
        "!pip install fiona"
      ],
      "execution_count": null,
      "outputs": []
    },
    {
      "cell_type": "code",
      "metadata": {
        "colab": {
          "base_uri": "https://localhost:8080/"
        },
        "id": "tI52LX9vy20e",
        "outputId": "48701f45-895e-49a1-c53f-6a63fcd3ad59"
      },
      "source": [
        "import numpy as np\n",
        "import pandas as pd\n",
        "import fiona\n",
        "import rasterio\n",
        "import rasterio.mask\n",
        "from rasterio.plot import show\n",
        "import xarray as xr\n",
        "\n",
        "from matplotlib import pyplot as plt\n",
        "from matplotlib import collections as cplt\n",
        "from matplotlib import gridspec\n",
        "import rasterio.plot\n",
        "from descartes import PolygonPatch\n",
        "\n",
        "import os, glob\n",
        "\n",
        "from google.colab import drive\n",
        "drive.mount('/content/drive')"
      ],
      "execution_count": null,
      "outputs": [
        {
          "output_type": "stream",
          "text": [
            "Mounted at /content/drive\n"
          ],
          "name": "stdout"
        }
      ]
    },
    {
      "cell_type": "markdown",
      "metadata": {
        "id": "jYidy6NMlmlx"
      },
      "source": [
        "### calculate chlorophyl concentrations\n",
        "\n",
        "equation from "
      ]
    },
    {
      "cell_type": "code",
      "metadata": {
        "id": "LKUhnqupzHO4"
      },
      "source": [
        "path = '/content/drive/MyDrive/'\n",
        "files = sorted(glob.glob(path + 'S2_SR_*.tif'))[0:-1]\n",
        "\n",
        "for file in files:                             #'S2_SR_2019-04-18_02_40_gili_coast.tif'\n",
        "\n",
        "  src = rasterio.open(file)\n",
        "  rx = xr.open_rasterio(file)\n",
        "\n",
        "  filename = file.split('/content/drive/MyDrive/')[-1].split('_gili_coast.tif')[0]\n",
        "\n",
        "  scale = 0.0001\n",
        "\n",
        "  Rrs_490 = src.read(1) * scale\n",
        "  Rrs_555 = src.read(2) * scale\n",
        "\n",
        "  a0 = 0.341 \n",
        "  a1 = -3.0010 \n",
        "  a2 = 2.811 \n",
        "  a3 = -2.041\n",
        "  a4 = 0.0400\n",
        "\n",
        "  R        = np.log(Rrs_490/Rrs_555)\n",
        "  exponent = a0 + (a1 * R) +(a2 * R**2) + (a3 * R**3)\n",
        "\n",
        "  OC_2_C = 10**(exponent) + a4 \n",
        "\n",
        "\n",
        "  # Normalize bands into 0.0 - 1.0 scale\n",
        "  def normalize(array):\n",
        "      array_min, array_max = array.min(), array.max()\n",
        "      return (array - array_min) / (array_max - array_min)\n",
        "\n",
        "  # Convert to numpy arrays\n",
        "  blue  = src.read(1) * scale\n",
        "  green = src.read(2) * scale\n",
        "  red   = src.read(3) * scale\n",
        "\n",
        "  # Normalize band DN\n",
        "  blue  = normalize(blue)\n",
        "  green = normalize(green)\n",
        "  red   = normalize(red)\n",
        "\n",
        "  # Stack bands\n",
        "  rgb = np.dstack((red, green, blue))\n",
        "\n",
        "  #rgb = pd.DataFrame(rgb)\n",
        "  OC_2_C = pd.DataFrame(OC_2_C)\n",
        "\n",
        "  rgb_clip    = np.dstack((red[380:520].T[380:520].T, green[380:520].T[380:520].T, blue[380:520].T[380:520].T))\n",
        "  OC_2_C_clip = OC_2_C[380:520].T[380:520].T\n",
        "  \n",
        " "
      ],
      "execution_count": null,
      "outputs": []
    },
    {
      "cell_type": "markdown",
      "metadata": {
        "id": "mGWqiMy78zBr"
      },
      "source": [
        "### calculate monthly means"
      ]
    },
    {
      "cell_type": "code",
      "metadata": {
        "id": "jeT3m3CO8wCs"
      },
      "source": [
        "blblb"
      ],
      "execution_count": null,
      "outputs": []
    },
    {
      "cell_type": "markdown",
      "metadata": {
        "id": "lBruLAPe83v9"
      },
      "source": [
        "### plotting"
      ]
    },
    {
      "cell_type": "code",
      "metadata": {
        "id": "5OGiE8Ze8rA0"
      },
      "source": [
        " cmap='rainbow'\n",
        "\n",
        "  fig = plt.subplots(figsize=(26, 5))\n",
        "  gs  = gridspec.GridSpec(1, 4,\n",
        "                       width_ratios=[8, 10, 8, 10],\n",
        "                       height_ratios=[1]\n",
        "               )\n",
        "  \n",
        "  ax0 = plt.subplot(gs[0])\n",
        "  ax0.imshow(rgb, aspect='auto')\n",
        "\n",
        "  ax1 = plt.subplot(gs[1])\n",
        "  img = ax1.imshow(OC_2_C, aspect='auto', vmin=0, vmax=2, cmap=cmap)\n",
        "  plt.title(filename)\n",
        "  cbar = plt.colorbar(mappable=img)\n",
        "  cbar.set_label('OC_2_C Chlorophyl-a (mg/m^2')\n",
        "\n",
        "  ax2 = plt.subplot(gs[2])\n",
        "  ax2.imshow(rgb_clip, aspect='auto')\n",
        "  plt.grid()\n",
        "\n",
        "  ax3 = plt.subplot(gs[3])\n",
        "  img = ax3.imshow(OC_2_C_clip, aspect='auto', vmin=0, vmax=2, cmap=cmap)\n",
        "  plt.grid()\n",
        "  plt.title(filename)\n",
        "  cbar = plt.colorbar(mappable=img)\n",
        "  cbar.set_label('OC_2_C Chlorophyl-a (mg/m^2')\n",
        "  plt.savefig('/content/drive/MyDrive/' + 'plot_' + filename + '.png', dpi=200, bbox_inches='tight')\n",
        "  plt.show()"
      ],
      "execution_count": null,
      "outputs": []
    },
    {
      "cell_type": "code",
      "metadata": {
        "colab": {
          "base_uri": "https://localhost:8080/",
          "height": 36
        },
        "id": "fe8CTG6TXglc",
        "outputId": "c1877196-a9a9-4cd2-a28c-08dcceec9292"
      },
      "source": [
        "filename"
      ],
      "execution_count": null,
      "outputs": [
        {
          "output_type": "execute_result",
          "data": {
            "application/vnd.google.colaboratory.intrinsic+json": {
              "type": "string"
            },
            "text/plain": [
              "'S2_SR_2019-01-13_02_40'"
            ]
          },
          "metadata": {
            "tags": []
          },
          "execution_count": 6
        }
      ]
    },
    {
      "cell_type": "markdown",
      "metadata": {
        "id": "FEYri-jPoL6r"
      },
      "source": [
        "## Landsat 8"
      ]
    },
    {
      "cell_type": "code",
      "metadata": {
        "id": "ya_YKuQxzcyo"
      },
      "source": [
        "path = '/content/drive/MyDrive/'\n",
        "files = sorted(glob.glob(path + 'L8_*.tif'))[0:-1]\n",
        "\n",
        "for file in files:                             #'S2_SR_2019-04-18_02_40_gili_coast.tif'\n",
        "\n",
        "  src = rasterio.open(file)\n",
        "  rx = xr.open_rasterio(file)\n",
        "\n",
        "  filename = file.split('/content/drive/MyDrive/')[-1].split('_gili_coast.tif')[0]\n",
        "\n",
        "  scale = 0.0001\n",
        "\n",
        "  Rrs_490 = src.read(1) * scale\n",
        "  Rrs_555 = src.read(2) * scale\n",
        "\n",
        "  a0 = 0.341 \n",
        "  a1 = -3.0010 \n",
        "  a2 = 2.811 \n",
        "  a3 = -2.041\n",
        "  a4 = 0.0400\n",
        "\n",
        "  R        = np.log(Rrs_490/Rrs_555)\n",
        "  exponent = a0 + (a1 * R) +(a2 * R**2) + (a3 * R**3)\n",
        "\n",
        "  OC_2_C = 10**(exponent) + a4 \n",
        "\n",
        "\n",
        "  # Normalize bands into 0.0 - 1.0 scale\n",
        "  def normalize(array):\n",
        "      array_min, array_max = array.min(), array.max()\n",
        "      return (array - array_min) / (array_max - array_min)\n",
        "\n",
        "  # Convert to numpy arrays\n",
        "  blue  = src.read(1) * scale\n",
        "  green = src.read(2) * scale\n",
        "  red   = src.read(3) * scale\n",
        "\n",
        "  # Normalize band DN\n",
        "  blue  = normalize(blue)\n",
        "  green = normalize(green)\n",
        "  red   = normalize(red)\n",
        "\n",
        "  # Stack bands\n",
        "  rgb = np.dstack((red, green, blue))\n",
        "\n",
        "  #rgb = pd.DataFrame(rgb)\n",
        "  OC_2_C = pd.DataFrame(OC_2_C)\n",
        "\n",
        "  rgb_clip    = np.dstack((red[380:520].T[380:520].T, green[380:520].T[380:520].T, blue[380:520].T[380:520].T))\n",
        "  OC_2_C_clip = OC_2_C[380:520].T[380:520].T\n",
        "\n",
        "  # View the color composite\n",
        "  \n",
        "  cmap='rainbow'\n",
        "\n",
        "  fig = plt.subplots(figsize=(26, 5))\n",
        "  gs  = gridspec.GridSpec(1, 4,\n",
        "                       width_ratios=[8, 10, 8, 10],\n",
        "                       height_ratios=[1]\n",
        "               )\n",
        "  \n",
        "  ax0 = plt.subplot(gs[0])\n",
        "  ax0.imshow(rgb, aspect='auto')\n",
        "\n",
        "  ax1 = plt.subplot(gs[1])\n",
        "  img = ax1.imshow(OC_2_C, aspect='auto', vmin=0, vmax=2, cmap=cmap)\n",
        "  plt.title(filename)\n",
        "  cbar = plt.colorbar(mappable=img)\n",
        "  cbar.set_label('OC_2_C Chlorophyl-a (mg/m^2')\n",
        "\n",
        "  ax2 = plt.subplot(gs[2])\n",
        "  ax2.imshow(rgb_clip, aspect='auto')\n",
        "  plt.grid()\n",
        "\n",
        "  ax3 = plt.subplot(gs[3])\n",
        "  img = ax3.imshow(OC_2_C_clip, aspect='auto', vmin=0, vmax=2, cmap=cmap)\n",
        "  plt.grid()\n",
        "  plt.title(filename)\n",
        "  cbar = plt.colorbar(mappable=img)\n",
        "  cbar.set_label('OC_2_C Chlorophyl-a (mg/m^2')\n",
        "  plt.savefig('/content/drive/MyDrive/' + 'plot_' + filename + '.png', dpi=200, bbox_inches='tight')\n",
        "  plt.show()"
      ],
      "execution_count": null,
      "outputs": []
    },
    {
      "cell_type": "code",
      "metadata": {
        "id": "5ep9x3Lw5v6j"
      },
      "source": [
        ""
      ],
      "execution_count": null,
      "outputs": []
    }
  ]
}